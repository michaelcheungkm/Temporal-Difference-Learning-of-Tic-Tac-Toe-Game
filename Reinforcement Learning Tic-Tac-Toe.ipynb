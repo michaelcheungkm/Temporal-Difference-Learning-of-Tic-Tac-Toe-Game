{
 "cells": [
  {
   "cell_type": "code",
   "execution_count": 94,
   "id": "0fbab121-a1ec-4f2c-8f12-925d9f89bd95",
   "metadata": {},
   "outputs": [],
   "source": [
    "import random"
   ]
  },
  {
   "cell_type": "markdown",
   "id": "f6b65991-636f-4770-a245-61e3e22c38d7",
   "metadata": {},
   "source": [
    "**Define empty board**"
   ]
  },
  {
   "cell_type": "code",
   "execution_count": 95,
   "id": "e054c501-49fb-4fe6-a4ce-a9bdb50d5437",
   "metadata": {},
   "outputs": [],
   "source": [
    "def gen_empty_board():\n",
    "    return (('','',''),('','',''),('','',''))"
   ]
  },
  {
   "cell_type": "code",
   "execution_count": 96,
   "id": "b61b6cfc-dc29-4b05-8162-61a7f5f4036b",
   "metadata": {},
   "outputs": [],
   "source": [
    "S = gen_empty_board()"
   ]
  },
  {
   "cell_type": "code",
   "execution_count": 97,
   "id": "72fa2ee9-e192-4882-b805-be6e7c778cc6",
   "metadata": {},
   "outputs": [
    {
     "data": {
      "text/plain": [
       "(('', '', ''), ('', '', ''), ('', '', ''))"
      ]
     },
     "execution_count": 97,
     "metadata": {},
     "output_type": "execute_result"
    }
   ],
   "source": [
    "S"
   ]
  },
  {
   "cell_type": "code",
   "execution_count": 98,
   "id": "8c1c2152-3d68-4ac9-81fa-2e80d6d12f77",
   "metadata": {},
   "outputs": [],
   "source": [
    "def insert_a_sym(S,pos,sym):\n",
    "    i,j = pos\n",
    "    U = [list(t) for t in S]\n",
    "    U[i][j] = sym\n",
    "    return tuple(tuple(lst) for lst in U)"
   ]
  },
  {
   "cell_type": "code",
   "execution_count": 99,
   "id": "eeb10084-9953-4c1d-8ec8-26b177ea617b",
   "metadata": {},
   "outputs": [],
   "source": [
    "S = insert_a_sym(S,(1,1),'X')"
   ]
  },
  {
   "cell_type": "code",
   "execution_count": 100,
   "id": "c534c2d5-e1a0-4bee-9ba6-3169d3703767",
   "metadata": {},
   "outputs": [
    {
     "data": {
      "text/plain": [
       "(('', '', ''), ('', 'X', ''), ('', '', ''))"
      ]
     },
     "execution_count": 100,
     "metadata": {},
     "output_type": "execute_result"
    }
   ],
   "source": [
    "S"
   ]
  },
  {
   "cell_type": "code",
   "execution_count": 101,
   "id": "7e096c7d-7393-4942-a581-d8da3a383c17",
   "metadata": {},
   "outputs": [
    {
     "data": {
      "text/plain": [
       "True"
      ]
     },
     "execution_count": 101,
     "metadata": {},
     "output_type": "execute_result"
    }
   ],
   "source": [
    "S[1][1]=='X'"
   ]
  },
  {
   "cell_type": "markdown",
   "id": "98fee3ec-f8d3-4c2e-8296-f37b841029e0",
   "metadata": {},
   "source": [
    "**Define board values**\n",
    "\n",
    "A board values table is a dictionary of values for board positions"
   ]
  },
  {
   "cell_type": "code",
   "execution_count": 102,
   "id": "31e81bbe-4d7f-43f5-a963-523927de3766",
   "metadata": {},
   "outputs": [],
   "source": [
    "board_values = {}"
   ]
  },
  {
   "cell_type": "markdown",
   "id": "5ffad7a6-ce14-4e4b-adda-dc763abcad73",
   "metadata": {},
   "source": [
    "**Set initial board values**"
   ]
  },
  {
   "cell_type": "markdown",
   "id": "b08e4b0b-9b1b-4738-b0e6-a552deff66fb",
   "metadata": {},
   "source": [
    "<ul>\n",
    "    <li>If there exist three 'X's are in a row, a column or a diagonal, the board value is set to $(1,0)$.</li>\n",
    "    <li>If there exist three 'O's are in a row, a column or a diagonal, the board value is set to $(0,1)$.</li>\n",
    "    <li>If there is no space in the board, the board value is set to $(0,0)$.</li>\n",
    "    <li>For other board position, initial value is $(0.5,0.5)$.</li>\n",
    "</ul>\n",
    "\n",
    "\n",
    "Because we are not able to list out all the board positions, we use a function to generate board values."
   ]
  },
  {
   "cell_type": "code",
   "execution_count": 103,
   "id": "acfa514d-daf8-4c12-97b1-6eced0cc2ac9",
   "metadata": {},
   "outputs": [],
   "source": [
    "def detect_three_in_a_row(S,sym):\n",
    "    correct = False\n",
    "    for i in range(3):\n",
    "        if (S[i][0]==sym) and (S[i][1]==sym) and (S[i][2]==sym):\n",
    "            correct = True\n",
    "            break\n",
    "        elif (S[0][i]==sym) and (S[1][i]==sym) and (S[2][i]==sym):\n",
    "            correct = True\n",
    "            break\n",
    "    return correct"
   ]
  },
  {
   "cell_type": "code",
   "execution_count": 104,
   "id": "f36be1b4-d37a-4424-941c-d768746e2534",
   "metadata": {},
   "outputs": [],
   "source": [
    "def detect_three_in_a_diagonal(S,sym):\n",
    "    if (S[0][0]==sym) and (S[1][1]==sym) and (S[2][2]==sym):\n",
    "        correct=True\n",
    "    elif (S[2][0]==sym) and (S[1][1]==sym) and (S[0][2]==sym):\n",
    "        correct=True\n",
    "    else:\n",
    "        correct=False\n",
    "    return correct"
   ]
  },
  {
   "cell_type": "code",
   "execution_count": 105,
   "id": "cee8c998",
   "metadata": {},
   "outputs": [],
   "source": [
    "def detect_empty_space(S):\n",
    "    A = []\n",
    "    for i in range(3):\n",
    "        for j in range(3):\n",
    "            if S[i][j]=='':\n",
    "                A.append((i,j))\n",
    "    if len(A)>0:\n",
    "        return True\n",
    "    else:\n",
    "        return False"
   ]
  },
  {
   "cell_type": "code",
   "execution_count": 106,
   "id": "793f7213-517d-4724-afa8-9af43404a7b7",
   "metadata": {},
   "outputs": [],
   "source": [
    "def gen_board_value(a_board):\n",
    "    if len(board_values)==0:\n",
    "        S=gen_empty_board()\n",
    "        board_values[S]=(0.5,0.5)\n",
    "    if a_board in board_values:\n",
    "        return board_values[a_board]\n",
    "    else:\n",
    "        if detect_three_in_a_row(a_board,'X'):\n",
    "            board_values[a_board]=(1,0)\n",
    "        elif detect_three_in_a_diagonal(a_board,'X'):\n",
    "            board_values[a_board]=(1,0)\n",
    "        elif detect_three_in_a_row(a_board,'O'):\n",
    "            board_values[a_board]=(0,1)\n",
    "        elif detect_three_in_a_diagonal(a_board,'O'):\n",
    "            board_values[a_board]=(0,1)\n",
    "        elif detect_empty_space(a_board)==False:\n",
    "            board_values[a_board] = (0,0)\n",
    "        else:\n",
    "            board_values[a_board]=(0.5,0.5)\n",
    "        return board_values[a_board]"
   ]
  },
  {
   "cell_type": "markdown",
   "id": "666422b1-f0fe-4d20-8279-97609ed7caf8",
   "metadata": {},
   "source": [
    "### Temporal difference learning"
   ]
  },
  {
   "cell_type": "markdown",
   "id": "0c77db65-2033-4295-a630-29902cccf679",
   "metadata": {},
   "source": [
    "**To learn board values, we perform many random games.**\n",
    "\n",
    "\n",
    "**If a board position $s$ leads (next move) to a board position $s^{'}$, we modify the board value for $s$ as $V(s) = V(s) + \\alpha \\big[V(s^{'})-V(s)\\big]$, where $\\alpha$ is a learning rate.**\n",
    "\n",
    "\n",
    "**Assuming 'X' is the beginning player, we randomly insert 'X' and then 'O' to a board until one of the end game conditions is reached.**\n",
    "\n",
    "\n",
    "**Assuming 'O' is the beginning player, we randomly insert 'O' and then 'X' to a board until one of the end game conditions is reached.**\n",
    "\n",
    "\n",
    "**End game conditions**\n",
    "\n",
    "<ul>\n",
    "    <li>Three 'X' in a row, a column or a diagonal</li>\n",
    "    <li>Three 'O' in a row, a column or a diagonal</li>\n",
    "    <li>The board is full.</li>\n",
    "</ul>"
   ]
  },
  {
   "cell_type": "markdown",
   "id": "f9ec0983-8152-41bd-a919-62f251b016d2",
   "metadata": {},
   "source": [
    "**This is a function to generate next possible board positions given the present board position and the next sym**"
   ]
  },
  {
   "cell_type": "code",
   "execution_count": 107,
   "id": "28e43881-eaf1-4610-8655-b36918e3ebef",
   "metadata": {},
   "outputs": [],
   "source": [
    "def next_possible_boards(U,sym):\n",
    "    poss_boards = []\n",
    "    for i in range(3):\n",
    "        for j in range(3):\n",
    "            V = U\n",
    "            if V[i][j]=='':\n",
    "                V = insert_a_sym(V,(i,j),sym)\n",
    "                poss_boards.append(V)\n",
    "    return poss_boards"
   ]
  },
  {
   "cell_type": "code",
   "execution_count": 108,
   "id": "bcd170ec-2e33-43b7-9375-786fd5a08313",
   "metadata": {},
   "outputs": [],
   "source": [
    "S = gen_empty_board()"
   ]
  },
  {
   "cell_type": "code",
   "execution_count": 109,
   "id": "e0d22920-3f00-4a63-bb18-d33fd95845a7",
   "metadata": {},
   "outputs": [],
   "source": [
    "NS = next_possible_boards(S,'X')"
   ]
  },
  {
   "cell_type": "code",
   "execution_count": 110,
   "id": "0f845c68-0b32-4dcf-ad2e-62f540b1e31e",
   "metadata": {},
   "outputs": [
    {
     "data": {
      "text/plain": [
       "(('', '', ''), ('', '', ''), ('', '', 'X'))"
      ]
     },
     "execution_count": 110,
     "metadata": {},
     "output_type": "execute_result"
    }
   ],
   "source": [
    "random.choice(NS)"
   ]
  },
  {
   "cell_type": "markdown",
   "id": "760c1d42-cd9b-4c56-bb54-15b4aaab2adc",
   "metadata": {},
   "source": [
    "**This is a function to play a random game**"
   ]
  },
  {
   "cell_type": "code",
   "execution_count": 111,
   "id": "820f807d-339e-430a-9470-41f572acb4fa",
   "metadata": {},
   "outputs": [],
   "source": [
    "def play_a_random_game(first_sym):\n",
    "    S=[gen_empty_board()]\n",
    "    if first_sym=='X':\n",
    "        next_sym='O'\n",
    "    else:\n",
    "        next_sym='X'\n",
    "    stop=0\n",
    "    while stop==0:\n",
    "        NS = next_possible_boards(S[-1],first_sym)\n",
    "        if len(NS)>0:\n",
    "            U = random.choice(NS)\n",
    "            S.append(U)\n",
    "            if detect_three_in_a_row(U,first_sym) or detect_three_in_a_diagonal(U,first_sym) or detect_empty_space(U)==False:\n",
    "                stop=1\n",
    "            else:\n",
    "                NS = next_possible_boards(S[-1],next_sym)\n",
    "                if len(NS)>0:\n",
    "                    U = random.choice(NS)\n",
    "                    S.append(U)\n",
    "                    if detect_three_in_a_row(U,next_sym) or detect_three_in_a_diagonal(U,next_sym) or detect_empty_space(U)==False:\n",
    "                        stop=1\n",
    "                else:\n",
    "                    stop=1\n",
    "        else:\n",
    "            stop=1\n",
    "    return S"
   ]
  },
  {
   "cell_type": "code",
   "execution_count": 112,
   "id": "fb249620-977d-4962-be02-b51a7d8b177f",
   "metadata": {},
   "outputs": [
    {
     "data": {
      "text/plain": [
       "[(('', '', ''), ('', '', ''), ('', '', '')),\n",
       " (('', 'X', ''), ('', '', ''), ('', '', '')),\n",
       " (('', 'X', ''), ('', '', ''), ('O', '', '')),\n",
       " (('', 'X', ''), ('', 'X', ''), ('O', '', '')),\n",
       " (('', 'X', ''), ('O', 'X', ''), ('O', '', '')),\n",
       " (('', 'X', ''), ('O', 'X', 'X'), ('O', '', '')),\n",
       " (('', 'X', ''), ('O', 'X', 'X'), ('O', 'O', '')),\n",
       " (('', 'X', 'X'), ('O', 'X', 'X'), ('O', 'O', '')),\n",
       " (('O', 'X', 'X'), ('O', 'X', 'X'), ('O', 'O', ''))]"
      ]
     },
     "execution_count": 112,
     "metadata": {},
     "output_type": "execute_result"
    }
   ],
   "source": [
    "play_a_random_game('X')"
   ]
  },
  {
   "cell_type": "markdown",
   "id": "7e9ac1f0-1d23-4a9a-9a5b-5a62bc7cc746",
   "metadata": {},
   "source": [
    "**A function to modify board values**"
   ]
  },
  {
   "cell_type": "code",
   "execution_count": 113,
   "id": "098c85fc-7bc2-4777-8391-08f501f3ef73",
   "metadata": {},
   "outputs": [],
   "source": [
    "def modify_board_values(a_game,alpha):\n",
    "    for i in range(1,len(a_game)+1):\n",
    "        if i==1:\n",
    "            board_values[a_game[-i]]=gen_board_value(a_game[-i])\n",
    "        else:\n",
    "            board_values[a_game[-i]] = gen_board_value(a_game[-i])\n",
    "            if board_values[a_game[-i]] != (0,0) or board_values[a_game[-i]] != (1,0) or board_values[a_game[-i]] != (0,1):\n",
    "                p = max(0,min(1,board_values[a_game[-i]][0] + alpha*(board_values[a_game[-i+1]][0] \n",
    "                                                                     - board_values[a_game[-i]][0])))\n",
    "                board_values[a_game[-i]] = (p,1-p)"
   ]
  },
  {
   "cell_type": "code",
   "execution_count": 114,
   "id": "f7d424b4-d702-454c-958b-6e69cdccc44b",
   "metadata": {},
   "outputs": [],
   "source": [
    "for _ in range(5000):\n",
    "    modify_board_values(play_a_random_game('X'),0.1)\n",
    "    modify_board_values(play_a_random_game('O'),0.1)"
   ]
  },
  {
   "cell_type": "code",
   "execution_count": 115,
   "id": "08d0addc-283a-4274-a898-ba4be6986494",
   "metadata": {},
   "outputs": [
    {
     "name": "stdout",
     "output_type": "stream",
     "text": [
      "(('', '', ''), ('', '', ''), ('', '', '')): (0.4981371423197026, 0.5018628576802975)\n",
      "(('X', 'O', 'O'), ('O', 'X', 'X'), ('X', 'X', 'O')): (0, 0)\n",
      "(('', 'O', 'O'), ('O', 'X', 'X'), ('X', 'X', 'O')): (0.06078832729528464, 0.9392116727047154)\n",
      "(('', 'O', ''), ('O', 'X', 'X'), ('X', 'X', 'O')): (0.5053922857945, 0.4946077142055)\n",
      "(('', 'O', ''), ('O', 'X', 'X'), ('X', '', 'O')): (0.549266320860024, 0.450733679139976)\n",
      "(('', '', ''), ('O', 'X', 'X'), ('X', '', 'O')): (0.5063075541126267, 0.49369244588737327)\n",
      "(('', '', ''), ('O', 'X', 'X'), ('', '', 'O')): (0.49923992916266, 0.50076007083734)\n",
      "(('', '', ''), ('O', 'X', 'X'), ('', '', '')): (0.4970022265763433, 0.5029977734236567)\n",
      "(('', '', ''), ('O', 'X', ''), ('', '', '')): (0.514107171640257, 0.485892828359743)\n",
      "(('', '', ''), ('', 'X', ''), ('', '', '')): (0.5122385621167046, 0.4877614378832954)\n"
     ]
    }
   ],
   "source": [
    "for i, (key, value) in enumerate(board_values.items()):\n",
    "    if i < 10:\n",
    "        print(f'{key}: {value}')\n",
    "    else:\n",
    "        break"
   ]
  },
  {
   "cell_type": "markdown",
   "id": "2bf016ba-1c1c-41e4-b1df-a3c5d934e744",
   "metadata": {},
   "source": [
    "**A function to find next best move given the present board position and next symbol**"
   ]
  },
  {
   "cell_type": "code",
   "execution_count": 116,
   "id": "b511ce80-01c4-49da-b601-5904e26c1958",
   "metadata": {},
   "outputs": [],
   "source": [
    "def find_next_best_move(S,sym):\n",
    "    if sym=='X':\n",
    "        if gen_board_value(S)==(1,0):\n",
    "            return 'Already win for X'\n",
    "        elif gen_board_value(S)==(0,1):\n",
    "            return 'Already lost for X'\n",
    "        elif gen_board_value(S)==(0,0):\n",
    "            return 'Draw'\n",
    "        else:\n",
    "            NS = next_possible_boards(S,sym)\n",
    "            A = []\n",
    "            for x in NS:\n",
    "                if x in board_values:\n",
    "                    A.append(board_values[x][0])\n",
    "                else:\n",
    "                    A.append(gen_board_value(x)[0])\n",
    "            u = max(A)\n",
    "            return random.choice([x for x in NS if board_values[x][0]==u])\n",
    "    else:\n",
    "        if gen_board_value(S)==(0,1):\n",
    "            return 'Already win for O'\n",
    "        elif gen_board_value(S)==(1,0):\n",
    "            return 'Already lost for O'\n",
    "        elif gen_board_value(S)==(0,0):\n",
    "            return 'Draw'\n",
    "        else:\n",
    "            NS = next_possible_boards(S,sym)\n",
    "            A = []\n",
    "            for x in NS:\n",
    "                if x in board_values:\n",
    "                    A.append(board_values[x][1])\n",
    "                else:\n",
    "                    A.append(gen_board_value(x)[1])\n",
    "            u = max(A)\n",
    "            return random.choice([x for x in NS if board_values[x][1]==u])"
   ]
  },
  {
   "cell_type": "code",
   "execution_count": 117,
   "id": "46a8ab46-0a3d-4497-933d-d008a0e8b5fe",
   "metadata": {},
   "outputs": [
    {
     "data": {
      "text/plain": [
       "(('X', 'X', 'X'), ('O', 'X', 'X'), ('O', '', 'O'))"
      ]
     },
     "execution_count": 117,
     "metadata": {},
     "output_type": "execute_result"
    }
   ],
   "source": [
    "S = (('X', '', 'X'), ('O', 'X', 'X'), ('O', '', 'O'))\n",
    "find_next_best_move(S,'X')"
   ]
  },
  {
   "cell_type": "code",
   "execution_count": 118,
   "id": "22d4f78e-84d6-4896-9bc2-0c4efe3bf375",
   "metadata": {},
   "outputs": [
    {
     "data": {
      "text/plain": [
       "(('X', '', ''), ('O', 'O', ''), ('X', '', ''))"
      ]
     },
     "execution_count": 118,
     "metadata": {},
     "output_type": "execute_result"
    }
   ],
   "source": [
    "S = (('X', '', ''), ('O', '', ''), ('X', '', ''))\n",
    "find_next_best_move(S,'O')"
   ]
  },
  {
   "cell_type": "markdown",
   "id": "9820e7ba-4cee-48df-99a0-fd3e69313b47",
   "metadata": {},
   "source": [
    "**Generate an optimal game for 'X' when the given sym player begins first**"
   ]
  },
  {
   "cell_type": "code",
   "execution_count": 119,
   "id": "52f1f424-6560-49b5-a01a-949d28dfcd38",
   "metadata": {},
   "outputs": [],
   "source": [
    "def gen_an_optimal_game(start_sym):\n",
    "    if start_sym=='X':\n",
    "        next_sym='O'\n",
    "    else:\n",
    "        next_sym='X'\n",
    "    S = [gen_empty_board()]\n",
    "    stop = 0\n",
    "    while stop==0:\n",
    "        S.append(find_next_best_move(S[-1],start_sym))\n",
    "        if (S[-1] != f'Already win for {start_sym}') and (S[-1] != f'Already lost for {start_sym}') and (S[-1] != 'Draw'):\n",
    "            S.append(find_next_best_move(S[-1],next_sym))\n",
    "            if (S[-1]==f'Already win for {next_sym}') or (S[-1]==f'Already lost for {next_sym}') or (S[-1]=='Draw'):\n",
    "                stop=1\n",
    "        else:\n",
    "            stop=1\n",
    "    return S"
   ]
  },
  {
   "cell_type": "code",
   "execution_count": 120,
   "id": "55644c13-ea0f-47f8-b678-02e42235055f",
   "metadata": {},
   "outputs": [
    {
     "data": {
      "text/plain": [
       "[(('', '', ''), ('', '', ''), ('', '', '')),\n",
       " (('', '', ''), ('', 'X', ''), ('', '', '')),\n",
       " (('', '', ''), ('', 'X', ''), ('', '', 'O')),\n",
       " (('', '', ''), ('', 'X', ''), ('', 'X', 'O')),\n",
       " (('', '', ''), ('', 'X', 'O'), ('', 'X', 'O')),\n",
       " (('', 'X', ''), ('', 'X', 'O'), ('', 'X', 'O')),\n",
       " 'Already lost for O']"
      ]
     },
     "execution_count": 120,
     "metadata": {},
     "output_type": "execute_result"
    }
   ],
   "source": [
    "gen_an_optimal_game('X')"
   ]
  },
  {
   "cell_type": "code",
   "execution_count": 121,
   "id": "b2b2027c-f3ba-4680-b503-ad830dc33a0b",
   "metadata": {},
   "outputs": [
    {
     "data": {
      "text/plain": [
       "[(('', '', ''), ('', '', ''), ('', '', '')),\n",
       " (('', '', ''), ('', 'O', ''), ('', '', '')),\n",
       " (('', '', 'X'), ('', 'O', ''), ('', '', '')),\n",
       " (('O', '', 'X'), ('', 'O', ''), ('', '', '')),\n",
       " (('O', '', 'X'), ('', 'O', 'X'), ('', '', '')),\n",
       " (('O', '', 'X'), ('', 'O', 'X'), ('', '', 'O')),\n",
       " 'Already lost for X']"
      ]
     },
     "execution_count": 121,
     "metadata": {},
     "output_type": "execute_result"
    }
   ],
   "source": [
    "gen_an_optimal_game('O')"
   ]
  },
  {
   "cell_type": "code",
   "execution_count": null,
   "id": "90ce7df6-4b81-45ed-843f-535ff8d2bc06",
   "metadata": {},
   "outputs": [],
   "source": []
  }
 ],
 "metadata": {
  "kernelspec": {
   "display_name": "Python 3 (ipykernel)",
   "language": "python",
   "name": "python3"
  },
  "language_info": {
   "codemirror_mode": {
    "name": "ipython",
    "version": 3
   },
   "file_extension": ".py",
   "mimetype": "text/x-python",
   "name": "python",
   "nbconvert_exporter": "python",
   "pygments_lexer": "ipython3",
   "version": "3.11.4"
  }
 },
 "nbformat": 4,
 "nbformat_minor": 5
}
